{
 "cells": [
  {
   "cell_type": "markdown",
   "metadata": {},
   "source": [
    "# Home Credit Default Risk\n",
    "\n",
    "https://www.kaggle.com/c/home-credit-default-risk#description\n",
    "\n",
    "https://www.kaggle.com/codename007/home-credit-complete-eda-feature-importance/notebook"
   ]
  },
  {
   "cell_type": "markdown",
   "metadata": {},
   "source": [
    "* application_{train|test}.csv\n",
    " * main table\n",
    "* bureau.csv\n",
    " * 其他機構之前的 credit\n",
    "* bureau_balance.csv\n",
    " * bureau.csv 的每月餘額\n",
    "* POS_CASH_balance.csv\n",
    "* credit_card_balance.csv\n",
    "* previous_application.csv\n",
    "* installments_payments.csv\n",
    "* HomeCredit_columns_description.csv"
   ]
  },
  {
   "cell_type": "code",
   "execution_count": 1,
   "metadata": {},
   "outputs": [],
   "source": [
    "import pandas as pd\n",
    "import numpy as np\n",
    "import os\n",
    "import matplotlib.pyplot as plt\n"
   ]
  },
  {
   "cell_type": "code",
   "execution_count": 2,
   "metadata": {},
   "outputs": [],
   "source": [
    "application_train = pd.read_csv('../input/application_train.csv')\n",
    "#POS_CASH_balance = pd.read_csv('../input/POS_CASH_balance.csv')\n",
    "#bureau_balance = pd.read_csv('../input/bureau_balance.csv')\n",
    "#previous_application = pd.read_csv('../input/previous_application.csv')\n",
    "#installments_payments = pd.read_csv('../input/installments_payments.csv')\n",
    "#credit_card_balance = pd.read_csv('../input/credit_card_balance.csv')\n",
    "#bureau = pd.read_csv('../input/bureau.csv')\n",
    "#application_test = pd.read_csv('../input/application_test.csv')"
   ]
  },
  {
   "cell_type": "markdown",
   "metadata": {},
   "source": [
    "## application_train"
   ]
  },
  {
   "cell_type": "code",
   "execution_count": 3,
   "metadata": {},
   "outputs": [
    {
     "data": {
      "text/html": [
       "<div>\n",
       "<style scoped>\n",
       "    .dataframe tbody tr th:only-of-type {\n",
       "        vertical-align: middle;\n",
       "    }\n",
       "\n",
       "    .dataframe tbody tr th {\n",
       "        vertical-align: top;\n",
       "    }\n",
       "\n",
       "    .dataframe thead th {\n",
       "        text-align: right;\n",
       "    }\n",
       "</style>\n",
       "<table border=\"1\" class=\"dataframe\">\n",
       "  <thead>\n",
       "    <tr style=\"text-align: right;\">\n",
       "      <th></th>\n",
       "      <th>SK_ID_CURR</th>\n",
       "      <th>TARGET</th>\n",
       "      <th>NAME_CONTRACT_TYPE</th>\n",
       "      <th>CODE_GENDER</th>\n",
       "      <th>FLAG_OWN_CAR</th>\n",
       "      <th>FLAG_OWN_REALTY</th>\n",
       "      <th>CNT_CHILDREN</th>\n",
       "      <th>AMT_INCOME_TOTAL</th>\n",
       "      <th>AMT_CREDIT</th>\n",
       "      <th>AMT_ANNUITY</th>\n",
       "      <th>...</th>\n",
       "      <th>FLAG_DOCUMENT_18</th>\n",
       "      <th>FLAG_DOCUMENT_19</th>\n",
       "      <th>FLAG_DOCUMENT_20</th>\n",
       "      <th>FLAG_DOCUMENT_21</th>\n",
       "      <th>AMT_REQ_CREDIT_BUREAU_HOUR</th>\n",
       "      <th>AMT_REQ_CREDIT_BUREAU_DAY</th>\n",
       "      <th>AMT_REQ_CREDIT_BUREAU_WEEK</th>\n",
       "      <th>AMT_REQ_CREDIT_BUREAU_MON</th>\n",
       "      <th>AMT_REQ_CREDIT_BUREAU_QRT</th>\n",
       "      <th>AMT_REQ_CREDIT_BUREAU_YEAR</th>\n",
       "    </tr>\n",
       "  </thead>\n",
       "  <tbody>\n",
       "    <tr>\n",
       "      <th>0</th>\n",
       "      <td>100002</td>\n",
       "      <td>1</td>\n",
       "      <td>Cash loans</td>\n",
       "      <td>M</td>\n",
       "      <td>N</td>\n",
       "      <td>Y</td>\n",
       "      <td>0</td>\n",
       "      <td>202500.0</td>\n",
       "      <td>406597.5</td>\n",
       "      <td>24700.5</td>\n",
       "      <td>...</td>\n",
       "      <td>0</td>\n",
       "      <td>0</td>\n",
       "      <td>0</td>\n",
       "      <td>0</td>\n",
       "      <td>0.0</td>\n",
       "      <td>0.0</td>\n",
       "      <td>0.0</td>\n",
       "      <td>0.0</td>\n",
       "      <td>0.0</td>\n",
       "      <td>1.0</td>\n",
       "    </tr>\n",
       "    <tr>\n",
       "      <th>1</th>\n",
       "      <td>100003</td>\n",
       "      <td>0</td>\n",
       "      <td>Cash loans</td>\n",
       "      <td>F</td>\n",
       "      <td>N</td>\n",
       "      <td>N</td>\n",
       "      <td>0</td>\n",
       "      <td>270000.0</td>\n",
       "      <td>1293502.5</td>\n",
       "      <td>35698.5</td>\n",
       "      <td>...</td>\n",
       "      <td>0</td>\n",
       "      <td>0</td>\n",
       "      <td>0</td>\n",
       "      <td>0</td>\n",
       "      <td>0.0</td>\n",
       "      <td>0.0</td>\n",
       "      <td>0.0</td>\n",
       "      <td>0.0</td>\n",
       "      <td>0.0</td>\n",
       "      <td>0.0</td>\n",
       "    </tr>\n",
       "    <tr>\n",
       "      <th>2</th>\n",
       "      <td>100004</td>\n",
       "      <td>0</td>\n",
       "      <td>Revolving loans</td>\n",
       "      <td>M</td>\n",
       "      <td>Y</td>\n",
       "      <td>Y</td>\n",
       "      <td>0</td>\n",
       "      <td>67500.0</td>\n",
       "      <td>135000.0</td>\n",
       "      <td>6750.0</td>\n",
       "      <td>...</td>\n",
       "      <td>0</td>\n",
       "      <td>0</td>\n",
       "      <td>0</td>\n",
       "      <td>0</td>\n",
       "      <td>0.0</td>\n",
       "      <td>0.0</td>\n",
       "      <td>0.0</td>\n",
       "      <td>0.0</td>\n",
       "      <td>0.0</td>\n",
       "      <td>0.0</td>\n",
       "    </tr>\n",
       "    <tr>\n",
       "      <th>3</th>\n",
       "      <td>100006</td>\n",
       "      <td>0</td>\n",
       "      <td>Cash loans</td>\n",
       "      <td>F</td>\n",
       "      <td>N</td>\n",
       "      <td>Y</td>\n",
       "      <td>0</td>\n",
       "      <td>135000.0</td>\n",
       "      <td>312682.5</td>\n",
       "      <td>29686.5</td>\n",
       "      <td>...</td>\n",
       "      <td>0</td>\n",
       "      <td>0</td>\n",
       "      <td>0</td>\n",
       "      <td>0</td>\n",
       "      <td>NaN</td>\n",
       "      <td>NaN</td>\n",
       "      <td>NaN</td>\n",
       "      <td>NaN</td>\n",
       "      <td>NaN</td>\n",
       "      <td>NaN</td>\n",
       "    </tr>\n",
       "    <tr>\n",
       "      <th>4</th>\n",
       "      <td>100007</td>\n",
       "      <td>0</td>\n",
       "      <td>Cash loans</td>\n",
       "      <td>M</td>\n",
       "      <td>N</td>\n",
       "      <td>Y</td>\n",
       "      <td>0</td>\n",
       "      <td>121500.0</td>\n",
       "      <td>513000.0</td>\n",
       "      <td>21865.5</td>\n",
       "      <td>...</td>\n",
       "      <td>0</td>\n",
       "      <td>0</td>\n",
       "      <td>0</td>\n",
       "      <td>0</td>\n",
       "      <td>0.0</td>\n",
       "      <td>0.0</td>\n",
       "      <td>0.0</td>\n",
       "      <td>0.0</td>\n",
       "      <td>0.0</td>\n",
       "      <td>0.0</td>\n",
       "    </tr>\n",
       "  </tbody>\n",
       "</table>\n",
       "<p>5 rows × 122 columns</p>\n",
       "</div>"
      ],
      "text/plain": [
       "   SK_ID_CURR  TARGET NAME_CONTRACT_TYPE CODE_GENDER FLAG_OWN_CAR  \\\n",
       "0      100002       1         Cash loans           M            N   \n",
       "1      100003       0         Cash loans           F            N   \n",
       "2      100004       0    Revolving loans           M            Y   \n",
       "3      100006       0         Cash loans           F            N   \n",
       "4      100007       0         Cash loans           M            N   \n",
       "\n",
       "  FLAG_OWN_REALTY  CNT_CHILDREN  AMT_INCOME_TOTAL  AMT_CREDIT  AMT_ANNUITY  \\\n",
       "0               Y             0          202500.0    406597.5      24700.5   \n",
       "1               N             0          270000.0   1293502.5      35698.5   \n",
       "2               Y             0           67500.0    135000.0       6750.0   \n",
       "3               Y             0          135000.0    312682.5      29686.5   \n",
       "4               Y             0          121500.0    513000.0      21865.5   \n",
       "\n",
       "              ...              FLAG_DOCUMENT_18 FLAG_DOCUMENT_19  \\\n",
       "0             ...                             0                0   \n",
       "1             ...                             0                0   \n",
       "2             ...                             0                0   \n",
       "3             ...                             0                0   \n",
       "4             ...                             0                0   \n",
       "\n",
       "  FLAG_DOCUMENT_20 FLAG_DOCUMENT_21 AMT_REQ_CREDIT_BUREAU_HOUR  \\\n",
       "0                0                0                        0.0   \n",
       "1                0                0                        0.0   \n",
       "2                0                0                        0.0   \n",
       "3                0                0                        NaN   \n",
       "4                0                0                        0.0   \n",
       "\n",
       "  AMT_REQ_CREDIT_BUREAU_DAY  AMT_REQ_CREDIT_BUREAU_WEEK  \\\n",
       "0                       0.0                         0.0   \n",
       "1                       0.0                         0.0   \n",
       "2                       0.0                         0.0   \n",
       "3                       NaN                         NaN   \n",
       "4                       0.0                         0.0   \n",
       "\n",
       "   AMT_REQ_CREDIT_BUREAU_MON  AMT_REQ_CREDIT_BUREAU_QRT  \\\n",
       "0                        0.0                        0.0   \n",
       "1                        0.0                        0.0   \n",
       "2                        0.0                        0.0   \n",
       "3                        NaN                        NaN   \n",
       "4                        0.0                        0.0   \n",
       "\n",
       "   AMT_REQ_CREDIT_BUREAU_YEAR  \n",
       "0                         1.0  \n",
       "1                         0.0  \n",
       "2                         0.0  \n",
       "3                         NaN  \n",
       "4                         0.0  \n",
       "\n",
       "[5 rows x 122 columns]"
      ]
     },
     "execution_count": 3,
     "metadata": {},
     "output_type": "execute_result"
    }
   ],
   "source": [
    "application_train.head()"
   ]
  },
  {
   "cell_type": "markdown",
   "metadata": {},
   "source": [
    "## POS_CASH_balance data"
   ]
  },
  {
   "cell_type": "code",
   "execution_count": 4,
   "metadata": {},
   "outputs": [
    {
     "ename": "NameError",
     "evalue": "name 'POS_CASH_balance' is not defined",
     "output_type": "error",
     "traceback": [
      "\u001b[1;31m---------------------------------------------------------------------------\u001b[0m",
      "\u001b[1;31mNameError\u001b[0m                                 Traceback (most recent call last)",
      "\u001b[1;32m<ipython-input-4-002ec25c9d4c>\u001b[0m in \u001b[0;36m<module>\u001b[1;34m()\u001b[0m\n\u001b[1;32m----> 1\u001b[1;33m \u001b[0mPOS_CASH_balance\u001b[0m\u001b[1;33m.\u001b[0m\u001b[0mhead\u001b[0m\u001b[1;33m(\u001b[0m\u001b[1;33m)\u001b[0m\u001b[1;33m\u001b[0m\u001b[0m\n\u001b[0m",
      "\u001b[1;31mNameError\u001b[0m: name 'POS_CASH_balance' is not defined"
     ]
    }
   ],
   "source": [
    "POS_CASH_balance.head()"
   ]
  },
  {
   "cell_type": "markdown",
   "metadata": {},
   "source": [
    "## bureau_balance data"
   ]
  },
  {
   "cell_type": "code",
   "execution_count": null,
   "metadata": {},
   "outputs": [],
   "source": [
    "bureau_balance.head()"
   ]
  },
  {
   "cell_type": "markdown",
   "metadata": {},
   "source": [
    "## previous_application data"
   ]
  },
  {
   "cell_type": "code",
   "execution_count": null,
   "metadata": {},
   "outputs": [],
   "source": [
    "previous_application.head()"
   ]
  },
  {
   "cell_type": "markdown",
   "metadata": {},
   "source": [
    "## installments_payments data"
   ]
  },
  {
   "cell_type": "code",
   "execution_count": null,
   "metadata": {},
   "outputs": [],
   "source": [
    "installments_payments.head()"
   ]
  },
  {
   "cell_type": "markdown",
   "metadata": {},
   "source": [
    "## credit_card_balance data"
   ]
  },
  {
   "cell_type": "code",
   "execution_count": null,
   "metadata": {},
   "outputs": [],
   "source": [
    "credit_card_balance.head()"
   ]
  },
  {
   "cell_type": "markdown",
   "metadata": {},
   "source": [
    "## bureau data"
   ]
  },
  {
   "cell_type": "code",
   "execution_count": null,
   "metadata": {},
   "outputs": [],
   "source": [
    "bureau.head()"
   ]
  },
  {
   "cell_type": "markdown",
   "metadata": {},
   "source": [
    "# drop id, target"
   ]
  },
  {
   "cell_type": "code",
   "execution_count": null,
   "metadata": {},
   "outputs": [],
   "source": [
    "\n",
    "train_data = application_train.drop(['TARGET', 'SK_ID_CURR'], axis=1)\n",
    "train_data.head()"
   ]
  },
  {
   "cell_type": "markdown",
   "metadata": {},
   "source": [
    "## train_missing"
   ]
  },
  {
   "cell_type": "code",
   "execution_count": null,
   "metadata": {},
   "outputs": [],
   "source": [
    "#total = application_train.isnull().sum()#.sort_values(ascending = False)\n",
    "train_missing = []\n",
    "for var in train_data.columns:\n",
    "    if train_data[var].isnull().sum() != 0:\n",
    "        train_missing.append(var)\n",
    "print(train_missing)"
   ]
  },
  {
   "cell_type": "markdown",
   "metadata": {},
   "source": [
    "## application_discrete_features"
   ]
  },
  {
   "cell_type": "code",
   "execution_count": null,
   "metadata": {},
   "outputs": [],
   "source": [
    "cnt = 0\n",
    "\n",
    "train_discrete_features = {}\n",
    "for var in train_data.columns:\n",
    "    #application_discrete_features[var] = 1.*application_train[var].nunique()/application_train[var].count() < 0.001 #or some other threshold\n",
    "    train_discrete_features[var] = 1.*train_data[var].nunique() < 10\n",
    "\n",
    "discrete_features = []\n",
    "for f in train_data.columns:\n",
    "    if train_discrete_features[f] == True:\n",
    "        discrete_features.append(f)\n",
    "        \n",
    "print(discrete_features)\n",
    "print(len(discrete_features))"
   ]
  },
  {
   "cell_type": "markdown",
   "metadata": {},
   "source": [
    "## discrete to onehot"
   ]
  },
  {
   "cell_type": "code",
   "execution_count": null,
   "metadata": {},
   "outputs": [],
   "source": [
    "\n",
    "x_descrete = pd.DataFrame()\n",
    "\n",
    "for f in train_data.columns:\n",
    "    if train_discrete_features[f] == True:\n",
    "        print(f)\n",
    "        onehot = pd.get_dummies(train_data[f])\n",
    "        onehot.columns = [f + '_' + str(col) for col in onehot.columns]\n",
    "        x_descrete = pd.concat([x_descrete, onehot],axis=1)\n",
    "\n",
    "print(x_descrete.shape)\n",
    "x_descrete.head()\n"
   ]
  },
  {
   "cell_type": "markdown",
   "metadata": {},
   "source": [
    "## continuous features\n",
    "### replace NA with mean, normalize"
   ]
  },
  {
   "cell_type": "code",
   "execution_count": null,
   "metadata": {},
   "outputs": [],
   "source": [
    "from sklearn import preprocessing\n",
    "\n",
    "train_number_features = train_data.select_dtypes(include='number').columns.values\n",
    "\n",
    "x_continuous = pd.DataFrame()\n",
    "\n",
    "continuous_features = []\n",
    "\n",
    "for f in train_number_features:\n",
    "    if train_discrete_features[f] == False:\n",
    "        #print(f)\n",
    "        \n",
    "        no_na = train_data[f].fillna(train_data[f].mean())\n",
    "        no_na = no_na.values.astype(float).reshape(-1, 1)\n",
    "\n",
    "        min_max_scaler = preprocessing.MinMaxScaler()\n",
    "        x_scaled = min_max_scaler.fit_transform(no_na)\n",
    "        df = pd.DataFrame(x_scaled, columns=[f])\n",
    "        \n",
    "        x_continuous = pd.concat([x_continuous, df],axis=1)\n",
    "        \n",
    "        continuous_features.append(f)\n",
    "        cnt += 1\n",
    "\n",
    "#x_continuous.head()\n",
    "\n",
    "print(continuous_features)"
   ]
  },
  {
   "cell_type": "markdown",
   "metadata": {},
   "source": [
    "## combine X, y"
   ]
  },
  {
   "cell_type": "code",
   "execution_count": null,
   "metadata": {},
   "outputs": [],
   "source": [
    "from sklearn.model_selection import train_test_split\n",
    "\n",
    "X = pd.concat([x_continuous, x_descrete],axis=1)\n",
    "y = application_train.TARGET\n",
    "#X.head()\n",
    "X_train, X_test, y_train, y_test = train_test_split(X, y, test_size=0.1)\n",
    "\n",
    "print(x_continuous.shape)\n",
    "print(x_descrete.shape)\n",
    "print(X.shape)\n",
    "\n",
    "discrete_features_all = x_descrete.columns"
   ]
  },
  {
   "cell_type": "markdown",
   "metadata": {},
   "source": [
    "## PCA"
   ]
  },
  {
   "cell_type": "code",
   "execution_count": null,
   "metadata": {},
   "outputs": [],
   "source": [
    "\n",
    "from sklearn.decomposition import PCA\n",
    "\n",
    "pca = PCA(n_components = 10)\n",
    "\n",
    "principalComponents = pca.fit_transform(X_train)\n",
    "\n",
    "principalDf = pd.DataFrame(data = principalComponents)\n",
    "\n",
    "Xpca = principalDf\n",
    "\n",
    "principalDf.head()\n"
   ]
  },
  {
   "cell_type": "markdown",
   "metadata": {},
   "source": [
    "## Train"
   ]
  },
  {
   "cell_type": "code",
   "execution_count": null,
   "metadata": {},
   "outputs": [],
   "source": [
    "#---------------------------------------SVM -------------------------------------------------\n",
    "from sklearn.linear_model import SGDClassifier\n",
    "from sklearn.metrics import accuracy_score\n",
    "from sklearn.externals import joblib\n",
    "\n",
    "X_train = Xpca\n",
    "\n",
    "# Batch\n",
    "def iter_minibatches(chunksize):\n",
    "    \n",
    "    # Provide chunks one by one\n",
    "    chunkstartmarker = 0\n",
    "    numtrainingpoints = X_train.shape[0]\n",
    "    \n",
    "    while chunkstartmarker < numtrainingpoints:\n",
    "        #chunkrows = range(chunkstartmarker,chunkstartmarker+chunksize)\n",
    "        #X_chunk, y_chunk = getrows(chunkrows)\n",
    "        start = chunkstartmarker\n",
    "        end = chunkstartmarker+chunksize\n",
    "        X_chunk = X_train.iloc[start:end]\n",
    "        y_chunk = y_train.iloc[start:end]\n",
    "        yield X_chunk, y_chunk, chunkstartmarker\n",
    "        chunkstartmarker += chunksize\n",
    "        \n",
    "def train():\n",
    "    batcherator = iter_minibatches(chunksize=10000)\n",
    "    model = SGDClassifier()\n",
    " \n",
    "    # Train model\n",
    "    for X_chunk, y_chunk, chunkstartmarker in batcherator:\n",
    "        model.partial_fit(X_chunk, y_chunk, classes=np.unique(y_chunk))\n",
    "        print(chunkstartmarker)\n",
    "        #print(model.score(X_test, y_test))\n",
    "        #print(model.predict(X_test))\n",
    "    \n",
    "    #accu = model.score(X_test, y_test)\n",
    "    accu = model.score(pca.transform(X_test), y_test)#pca\n",
    "    print('accu = ', accu)\n",
    " \n",
    "    # Now make predictions with trained model\n",
    "    #y_predicted = model.predict(X_test)\n",
    "\n",
    "    joblib.dump(model, 'save/sgd.pkl')\n",
    "    \n",
    "train()\n",
    "\n",
    "y.head()"
   ]
  },
  {
   "cell_type": "code",
   "execution_count": null,
   "metadata": {},
   "outputs": [],
   "source": [
    "'''\n",
    "from sklearn.svm import SVC\n",
    "\n",
    "classifier =  SVC()\n",
    "\n",
    "classifier.fit(X, y)\n",
    "print(classifier.score(X_test, y_test))\n",
    "'''"
   ]
  },
  {
   "cell_type": "code",
   "execution_count": null,
   "metadata": {},
   "outputs": [],
   "source": [
    "'''\n",
    "from sklearn.externals import joblib\n",
    "\n",
    "joblib.dump(model, 'save/clf.pkl')\n",
    "\n",
    "model = joblib.load('save/clf.pkl')\n",
    "\n",
    "print(classifier.predict(X[0:1]))\n",
    "'''"
   ]
  },
  {
   "cell_type": "markdown",
   "metadata": {},
   "source": [
    "## output result"
   ]
  },
  {
   "cell_type": "code",
   "execution_count": null,
   "metadata": {},
   "outputs": [],
   "source": [
    "from sklearn.externals import joblib\n",
    "#discrete_features\n",
    "#continuous_features\n",
    "\n",
    "def output():\n",
    "    application_test = pd.read_csv('../input/application_test.csv')\n",
    "    classifier = joblib.load('save/sgd.pkl')\n",
    "    \n",
    "    # descrete\n",
    "    \n",
    "    test_descrete = pd.DataFrame()\n",
    "    for f in discrete_features:\n",
    "        onehot = pd.get_dummies(application_test[f])# this will loss some features with 0s\n",
    "        onehot.columns = [f + '_' + str(col) for col in onehot.columns]\n",
    "        test_descrete = pd.concat([test_descrete, onehot],axis=1)\n",
    "    \n",
    "    for f in discrete_features_all:# fill missing descrete features\n",
    "        if f not in test_descrete.columns:\n",
    "            test_descrete[f]= 0\n",
    "    \n",
    "    for f in test_descrete.columns:# remove features not in training data\n",
    "        if f not in discrete_features_all:\n",
    "            test_descrete = test_descrete.drop(columns=[f])\n",
    "    \n",
    "    # continuous\n",
    "    \n",
    "    test_continuous = pd.DataFrame()\n",
    "    for f in continuous_features:\n",
    "        no_na = application_test[f].fillna(train_data[f].mean())\n",
    "        no_na = no_na.values.astype(float).reshape(-1, 1)\n",
    "\n",
    "        min_max_scaler = preprocessing.MinMaxScaler()\n",
    "        x_scaled = min_max_scaler.fit_transform(no_na)\n",
    "        df = pd.DataFrame(x_scaled, columns=[f])\n",
    "        \n",
    "        test_continuous = pd.concat([test_continuous, df],axis=1)\n",
    "    \n",
    "\n",
    "    test_data = pd.concat([test_continuous, test_descrete],axis=1)\n",
    "    \n",
    "    #print(test_continuous.shape)\n",
    "    #print(test_descrete.shape)\n",
    "    print(test_data.shape)\n",
    "    #print(len(discrete_features))\n",
    "    #print(test_descrete.columns)\n",
    "    #print(x_descrete.columns)\n",
    "    #print(len(discrete_features_all))\n",
    "    \n",
    "    #p = classifier.predict(test_data)\n",
    "    p = classifier.predict(pca.transform(test_data))#pca\n",
    "    #print(pd.DataFrame(data = pca.transform(test_data)).head())\n",
    "    print(p)\n",
    "    \n",
    "    result = pd.DataFrame()\n",
    "    result['SK_ID_CURR'] = application_test['SK_ID_CURR']\n",
    "    result['TARGET'] = p\n",
    "    print(result.head())\n",
    "    \n",
    "    result.to_csv('./output/sgd.csv', index = False)\n",
    "    \n",
    "output()"
   ]
  },
  {
   "cell_type": "code",
   "execution_count": null,
   "metadata": {},
   "outputs": [],
   "source": []
  }
 ],
 "metadata": {
  "kernelspec": {
   "display_name": "Python 3",
   "language": "python",
   "name": "python3"
  },
  "language_info": {
   "codemirror_mode": {
    "name": "ipython",
    "version": 3
   },
   "file_extension": ".py",
   "mimetype": "text/x-python",
   "name": "python",
   "nbconvert_exporter": "python",
   "pygments_lexer": "ipython3",
   "version": "3.6.5"
  }
 },
 "nbformat": 4,
 "nbformat_minor": 2
}
